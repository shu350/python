{
 "cells": [
  {
   "cell_type": "code",
   "execution_count": 1,
   "metadata": {},
   "outputs": [
    {
     "name": "stdout",
     "output_type": "stream",
     "text": [
      "hello word\n"
     ]
    }
   ],
   "source": [
    "print('hello word')"
   ]
  },
  {
   "cell_type": "code",
   "execution_count": 2,
   "metadata": {},
   "outputs": [],
   "source": [
    "a=100"
   ]
  },
  {
   "cell_type": "code",
   "execution_count": 4,
   "metadata": {},
   "outputs": [
    {
     "name": "stdout",
     "output_type": "stream",
     "text": [
      "100\n"
     ]
    }
   ],
   "source": [
    "print(a)"
   ]
  },
  {
   "cell_type": "code",
   "execution_count": 9,
   "metadata": {},
   "outputs": [],
   "source": [
    "a = \"\"\"sadas\n",
    "sasdasadasdasdas\n",
    "sadsadsa\n",
    "\"\"\"\n",
    "\n",
    "\n"
   ]
  },
  {
   "cell_type": "code",
   "execution_count": null,
   "metadata": {},
   "outputs": [],
   "source": [
    "当6引号给予变量得到时候，即变为字符串v"
   ]
  },
  {
   "cell_type": "code",
   "execution_count": 10,
   "metadata": {},
   "outputs": [
    {
     "name": "stdout",
     "output_type": "stream",
     "text": [
      "100 2000 xixi\n",
      "1000\n"
     ]
    }
   ],
   "source": [
    "print(100,2000,'xixi')\n",
    "print(1000)"
   ]
  },
  {
   "cell_type": "code",
   "execution_count": 11,
   "metadata": {},
   "outputs": [
    {
     "name": "stdout",
     "output_type": "stream",
     "text": [
      "100,2000,xixi\n"
     ]
    }
   ],
   "source": [
    "print(100,2000,'xixi',sep=',')"
   ]
  },
  {
   "cell_type": "code",
   "execution_count": 16,
   "metadata": {},
   "outputs": [
    {
     "name": "stdout",
     "output_type": "stream",
     "text": [
      "100,2000,xixi!100000\n"
     ]
    }
   ],
   "source": [
    "print(100,2000,'xixi',sep=',',end='!')\n",
    "print(100000)"
   ]
  },
  {
   "cell_type": "code",
   "execution_count": 17,
   "metadata": {},
   "outputs": [],
   "source": [
    "#sep更改多个元素之间的连接符，end：结尾符号，默认是换行符"
   ]
  },
  {
   "cell_type": "code",
   "execution_count": 18,
   "metadata": {},
   "outputs": [],
   "source": [
    "a = 100\n",
    "A = 500"
   ]
  },
  {
   "cell_type": "code",
   "execution_count": 19,
   "metadata": {},
   "outputs": [
    {
     "data": {
      "text/plain": [
       "500"
      ]
     },
     "execution_count": 19,
     "metadata": {},
     "output_type": "execute_result"
    }
   ],
   "source": [
    "A"
   ]
  },
  {
   "cell_type": "code",
   "execution_count": 24,
   "metadata": {},
   "outputs": [],
   "source": [
    "#// 整除"
   ]
  },
  {
   "cell_type": "code",
   "execution_count": 28,
   "metadata": {},
   "outputs": [
    {
     "name": "stdout",
     "output_type": "stream",
     "text": [
      "10\n",
      "10 <class 'str'>\n"
     ]
    }
   ],
   "source": [
    "a = input()\n",
    "print(a,type(a))"
   ]
  },
  {
   "cell_type": "code",
   "execution_count": 29,
   "metadata": {},
   "outputs": [
    {
     "name": "stdout",
     "output_type": "stream",
     "text": [
      "10 <class 'int'>\n"
     ]
    }
   ],
   "source": [
    "b = '10'\n",
    "c = int(b)\n",
    "print(c,type(c))"
   ]
  },
  {
   "cell_type": "code",
   "execution_count": 4,
   "metadata": {},
   "outputs": [
    {
     "name": "stdout",
     "output_type": "stream",
     "text": [
      "请输入一个数字:>>10\n",
      "请输入一个数字:>>25\n",
      "答案是： 35.0\n"
     ]
    }
   ],
   "source": [
    "input_1 = input('请输入一个数字:>>')\n",
    "input_2 = input('请输入一个数字:>>')\n",
    "ChangeToFloat_1 = float(input_1)\n",
    "ChangeToFloat_2 = float(input_2)\n",
    "Calc_Add = ChangeToFloat_1 + ChangeToFloat_2\n",
    "print(\"答案是：\",Calc_Add)"
   ]
  },
  {
   "cell_type": "code",
   "execution_count": 5,
   "metadata": {},
   "outputs": [
    {
     "name": "stdout",
     "output_type": "stream",
     "text": [
      "10+10=20\n"
     ]
    }
   ],
   "source": [
    "a = 100\n",
    "print('%d+%d=%d'%(10,10,20))"
   ]
  },
  {
   "cell_type": "code",
   "execution_count": 8,
   "metadata": {},
   "outputs": [
    {
     "name": "stdout",
     "output_type": "stream",
     "text": [
      "卢本伟😊 牛逼\n"
     ]
    }
   ],
   "source": [
    "    print('{}😊 牛逼'.format('卢本伟'))"
   ]
  },
  {
   "cell_type": "code",
   "execution_count": 10,
   "metadata": {},
   "outputs": [
    {
     "data": {
      "text/plain": [
       "'[PDD]帅气'"
      ]
     },
     "execution_count": 10,
     "metadata": {},
     "output_type": "execute_result"
    }
   ],
   "source": [
    "'[PDD]帅气'"
   ]
  },
  {
   "cell_type": "code",
   "execution_count": 11,
   "metadata": {},
   "outputs": [
    {
     "name": "stdout",
     "output_type": "stream",
     "text": [
      "wky\n"
     ]
    },
    {
     "data": {
      "text/plain": [
       "'wky 牛逼'"
      ]
     },
     "execution_count": 11,
     "metadata": {},
     "output_type": "execute_result"
    }
   ],
   "source": [
    "name = input()\n",
    "'{} 牛逼'.format(name)"
   ]
  },
  {
   "cell_type": "code",
   "execution_count": 12,
   "metadata": {},
   "outputs": [],
   "source": [
    "import numpy as np"
   ]
  },
  {
   "cell_type": "code",
   "execution_count": 13,
   "metadata": {},
   "outputs": [
    {
     "data": {
      "text/plain": [
       "array([0.24784861])"
      ]
     },
     "execution_count": 13,
     "metadata": {},
     "output_type": "execute_result"
    }
   ],
   "source": [
    "a = np.random.rand(1)\n",
    "a"
   ]
  },
  {
   "cell_type": "code",
   "execution_count": 14,
   "metadata": {},
   "outputs": [
    {
     "name": "stdout",
     "output_type": "stream",
     "text": [
      "0.25\n"
     ]
    }
   ],
   "source": [
    "print('%.2f'%a)"
   ]
  },
  {
   "cell_type": "code",
   "execution_count": 18,
   "metadata": {},
   "outputs": [
    {
     "name": "stdout",
     "output_type": "stream",
     "text": [
      "0.25\n"
     ]
    }
   ],
   "source": [
    "print('{:.2f}'.format(a[0]))"
   ]
  },
  {
   "cell_type": "code",
   "execution_count": 21,
   "metadata": {},
   "outputs": [
    {
     "data": {
      "text/plain": [
       "'b'"
      ]
     },
     "execution_count": 21,
     "metadata": {},
     "output_type": "execute_result"
    }
   ],
   "source": [
    "chr(98)"
   ]
  },
  {
   "cell_type": "code",
   "execution_count": 26,
   "metadata": {},
   "outputs": [
    {
     "name": "stdout",
     "output_type": "stream",
     "text": [
      "a\n",
      "b\n",
      "c\n",
      "d\n"
     ]
    }
   ],
   "source": [
    "for i in 'abcd':\n",
    "      print(i)"
   ]
  },
  {
   "cell_type": "code",
   "execution_count": 36,
   "metadata": {},
   "outputs": [
    {
     "name": "stdout",
     "output_type": "stream",
     "text": [
      "54\n",
      "52\n",
      "53\n",
      "52\n",
      "56\n",
      "64\n",
      "113\n",
      "113\n",
      "46\n",
      "99\n",
      "111\n",
      "109\n"
     ]
    }
   ],
   "source": [
    "#使用chr或ord进行简单的邮箱加密\n",
    "for i in '64548@qq.com':\n",
    "     print(ord(i))"
   ]
  },
  {
   "cell_type": "code",
   "execution_count": 40,
   "metadata": {},
   "outputs": [
    {
     "name": "stdout",
     "output_type": "stream",
     "text": [
      "Input Yout Email:1428186174@qq.com\n",
      "586<5<:5;8Duu2gsq"
     ]
    }
   ],
   "source": [
    "email = input('Input Yout Email:')\n",
    "for i in email:\n",
    "    #拿出当前的ASCII值\n",
    "    res = ord(i)+4 #将字符串（6，4，5.....)转换成字符串\n",
    "    res2 = chr(res) #依次改变之后的数值\n",
    "    print(res2,end=\"\") #end=\"\"  不换行"
   ]
  },
  {
   "cell_type": "code",
   "execution_count": 47,
   "metadata": {},
   "outputs": [
    {
     "data": {
      "text/plain": [
       "True"
      ]
     },
     "execution_count": 47,
     "metadata": {},
     "output_type": "execute_result"
    }
   ],
   "source": [
    "a =100\n",
    "b = 100\n",
    "a == b"
   ]
  },
  {
   "cell_type": "code",
   "execution_count": 48,
   "metadata": {},
   "outputs": [
    {
     "data": {
      "text/plain": [
       "True"
      ]
     },
     "execution_count": 48,
     "metadata": {},
     "output_type": "execute_result"
    }
   ],
   "source": [
    "a is b"
   ]
  },
  {
   "cell_type": "code",
   "execution_count": 49,
   "metadata": {},
   "outputs": [
    {
     "name": "stdout",
     "output_type": "stream",
     "text": [
      "False\n"
     ]
    }
   ],
   "source": [
    "d = 0\n",
    "print(bool(d))"
   ]
  },
  {
   "cell_type": "code",
   "execution_count": 50,
   "metadata": {},
   "outputs": [
    {
     "data": {
      "text/plain": [
       "True"
      ]
     },
     "execution_count": 50,
     "metadata": {},
     "output_type": "execute_result"
    }
   ],
   "source": [
    "a = True\n",
    "b = False\n",
    "\n",
    "a is not b"
   ]
  },
  {
   "cell_type": "code",
   "execution_count": 53,
   "metadata": {},
   "outputs": [
    {
     "data": {
      "text/plain": [
       "100"
      ]
     },
     "execution_count": 53,
     "metadata": {},
     "output_type": "execute_result"
    }
   ],
   "source": [
    "a = 100\n",
    "a *= 1\n",
    "a"
   ]
  },
  {
   "cell_type": "code",
   "execution_count": null,
   "metadata": {},
   "outputs": [],
   "source": [
    "a = float(input('华氏温度：'))\n",
    "b = (a-32)/1.8\n",
    "print('{}华氏度 = {}摄氏度'.format(a.b))"
   ]
  },
  {
   "cell_type": "code",
   "execution_count": 5,
   "metadata": {},
   "outputs": [
    {
     "name": "stdout",
     "output_type": "stream",
     "text": [
      "半径5\n",
      "周长：31.42 面积：78.54\n"
     ]
    }
   ],
   "source": [
    "import math\n",
    "r = float(input('半径'))\n",
    "p = 2*r*math.pi\n",
    "a = (r**2)*math.pi\n",
    "print('周长：%.2f'%p,'面积：%.2f'%a)"
   ]
  },
  {
   "cell_type": "code",
   "execution_count": 7,
   "metadata": {},
   "outputs": [
    {
     "name": "stdout",
     "output_type": "stream",
     "text": [
      "年份2016\n",
      "闰年\n"
     ]
    }
   ],
   "source": [
    "year = int(input('年份'))\n",
    "if(year%4 == 0 and year % 100 !=0 or year %400 ==0):\n",
    "    \n",
    "    print('闰年')\n",
    "else:\n",
    "    print('ping')\n",
    "\n"
   ]
  },
  {
   "cell_type": "code",
   "execution_count": 34,
   "metadata": {},
   "outputs": [
    {
     "name": "stdout",
     "output_type": "stream",
     "text": [
      "长5\n",
      "#####\n",
      "#   #\n",
      "#   #\n",
      "#   #\n",
      "#####\n"
     ]
    }
   ],
   "source": [
    "a = int(input('长'))\n",
    "for i in range(a):\n",
    "    if(i==0)or(i==a-1):\n",
    "        print('#'*a)\n",
    "    else:\n",
    "        print(\"#\",\" \"*(a-3),\"\\b#\")\n",
    "    \n",
    "   "
   ]
  },
  {
   "cell_type": "code",
   "execution_count": 32,
   "metadata": {},
   "outputs": [
    {
     "name": "stdout",
     "output_type": "stream",
     "text": [
      "153 370 371 407 "
     ]
    }
   ],
   "source": [
    "for each in range(100,1000):\n",
    "    a=each//100\n",
    "    b=(each-a*100)//10\n",
    "    c=each%10\n",
    "    if(a*a*a+b*b*b+c*c*c==each):\n",
    "        print(each,end=' ')"
   ]
  },
  {
   "cell_type": "code",
   "execution_count": 13,
   "metadata": {},
   "outputs": [
    {
     "name": "stdout",
     "output_type": "stream",
     "text": [
      "number:>>4645\n",
      "[i]Error,The lenght must be three!\n"
     ]
    }
   ],
   "source": [
    "Number = input('number:>>')\n",
    "if len(Number) > 3:\n",
    "    print('[i]Error,The lenght must be three!')\n",
    "else:\n",
    "    bai = int(Number[0])\n",
    "    shi = int(Number[1])\n",
    "    ge = int(Number[2])\n",
    "    if bai ** 3 + shi ** 3 + ge ** 3 == int(Number):\n",
    "        print('水仙花')\n",
    "    else:\n",
    "        print('不是')"
   ]
  },
  {
   "cell_type": "code",
   "execution_count": 50,
   "metadata": {},
   "outputs": [
    {
     "name": "stdout",
     "output_type": "stream",
     "text": [
      "# # # # # # # # # # \n",
      "#                                 # \n",
      "#                                 # \n",
      "#                                 # \n",
      "#                                 # \n",
      "#                                 # \n",
      "#                                 # \n",
      "#                                 # \n",
      "#                                 # \n",
      "# # # # # # # # # # "
     ]
    }
   ],
   "source": [
    "for i in range(10):\n",
    "    print('# ',end=\"\")\n",
    "print()   \n",
    "for k in range(8):\n",
    "    print('# ','  '*16,'# ',sep=\"\")\n",
    "for j in range(10):\n",
    "    print('# ',end=\"\")"
   ]
  },
  {
   "cell_type": "code",
   "execution_count": null,
   "metadata": {},
   "outputs": [],
   "source": []
  },
  {
   "cell_type": "code",
   "execution_count": null,
   "metadata": {},
   "outputs": [],
   "source": []
  }
 ],
 "metadata": {
  "kernelspec": {
   "display_name": "Python 3",
   "language": "python",
   "name": "python3"
  },
  "language_info": {
   "codemirror_mode": {
    "name": "ipython",
    "version": 3
   },
   "file_extension": ".py",
   "mimetype": "text/x-python",
   "name": "python",
   "nbconvert_exporter": "python",
   "pygments_lexer": "ipython3",
   "version": "3.7.3"
  }
 },
 "nbformat": 4,
 "nbformat_minor": 2
}
